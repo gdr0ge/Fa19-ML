{
  "nbformat": 4,
  "nbformat_minor": 0,
  "metadata": {
    "kernelspec": {
      "display_name": "Python 3",
      "language": "python",
      "name": "python3"
    },
    "language_info": {
      "codemirror_mode": {
        "name": "ipython",
        "version": 3
      },
      "file_extension": ".py",
      "mimetype": "text/x-python",
      "name": "python",
      "nbconvert_exporter": "python",
      "pygments_lexer": "ipython3",
      "version": "3.6.9"
    },
    "colab": {
      "name": "HW1-Logistic.ipynb",
      "provenance": [],
      "collapsed_sections": []
    }
  },
  "cells": [
    {
      "cell_type": "code",
      "metadata": {
        "id": "zqHB1eGNU47l",
        "colab_type": "code",
        "colab": {
          "base_uri": "https://localhost:8080/",
          "height": 54
        },
        "outputId": "60411cd9-9ec2-4472-c04b-f854247bf23a"
      },
      "source": [
        "\"\"\"\n",
        "DESCRIPTION OF IMPLEMENTATION:\n",
        "\n",
        "For this problem we solve the logistic regression problem which deals with classifying elements into a specific category.  To do this we take advantage of the sigmoid function, \n",
        "which has the characteristic of converting a number into a probability.  The loss function for logistic regression is given in the homework, as well as the gradient for the loss function \n",
        "that we generalize in this algorithm from when we calculated the partial derivatives with respect to a weight for individual features and labels.  Using these equations we train the model by first \n",
        "initializing the weight vector with random values, then compute a guess by taking the sigmoid function of our weight vector multiplied by our training set. Next we compute the gradient \n",
        "by using the previously computed probability guesses, the y training labels and the equation mentioned for the gradient.  Lastly we compute the next set of weights by subtracting our learning rate \n",
        "multiplied by the gradient from our last set of weights.  We do this over 50,000 iterations to allow the algorithm to find a minimum location.  Error rates are calculated for each of the folds.  \n",
        "\n",
        "I include the equations used in the LateX doc towards the end\n",
        "\"\"\""
      ],
      "execution_count": 99,
      "outputs": [
        {
          "output_type": "execute_result",
          "data": {
            "text/plain": [
              "'\\nDESCRIPTION OF IMPLEMENTATION:\\n\\nFor this problem we solve the logistic regression problem which deals with classifying elements into a specific category.  To do this we take advantage of the sigmoid function, \\nwhich has the characteristic of converting a number into a probability.  The loss function for logistic regression is given in the homework, as well as the gradient for the loss function \\nthat we generalize in this algorithm from when we calculated the partial derivatives with respect to a weight for individual features and labels.  Using these equations we train the model by first \\ninitializing the weight vector with random values, then compute a guess by taking the sigmoid function of our weight vector multiplied by our training set. Next we compute the gradient \\nby using the previously computed probability guesses, the y training labels and the equation mentioned for the gradient.  Lastly we compute the next set of weights by subtracting our learning rate \\nmultiplied by the gradient from our last set of weights.  We do this over 50,000 iterations to allow the algorithm to find a minimum location.  Error rates are calculated for each of the folds.  \\n\\n\\n'"
            ]
          },
          "metadata": {
            "tags": []
          },
          "execution_count": 99
        }
      ]
    },
    {
      "cell_type": "code",
      "metadata": {
        "id": "nvK1B17UVpt8",
        "colab_type": "code",
        "colab": {}
      },
      "source": [
        "# Used to upload the Housing.csv file\n",
        "from google.colab import files\n",
        "uploaded = files.upload()"
      ],
      "execution_count": 0,
      "outputs": []
    },
    {
      "cell_type": "code",
      "metadata": {
        "id": "2vq9DUKwU47r",
        "colab_type": "code",
        "colab": {}
      },
      "source": [
        "import numpy as np\n",
        "import pandas as pd\n",
        "import matplotlib.pyplot as plt"
      ],
      "execution_count": 0,
      "outputs": []
    },
    {
      "cell_type": "code",
      "metadata": {
        "id": "a5XVNqHBU470",
        "colab_type": "code",
        "colab": {}
      },
      "source": [
        "def get_next_train_valid(X_shuffled, y_shuffled, itr):\n",
        "    \"\"\"\n",
        "    Return one validation set and concatenate the rest to \n",
        "    use as a training set\n",
        "    \"\"\"\n",
        "    val_x, val_y = X_shuffled[itr], y_shuffled[itr][:,None]\n",
        "    \n",
        "    training_x = np.empty((0,X_shuffled[0].shape[1]))\n",
        "    training_y = np.empty((0,1))\n",
        "    \n",
        "    for k,v in X_shuffled.items():\n",
        "      if k != itr:\n",
        "        training_x = np.concatenate((training_x,v),axis=0)\n",
        "    \n",
        "    for k,v in y_shuffled.items():\n",
        "      if k != itr:\n",
        "        training_y = np.concatenate((training_y,v.reshape(v.shape[0],1)),axis=0)\n",
        "        \n",
        "        \n",
        "    return training_x, training_y, val_x, val_y"
      ],
      "execution_count": 0,
      "outputs": []
    },
    {
      "cell_type": "code",
      "metadata": {
        "id": "lDNDq80IU476",
        "colab_type": "code",
        "colab": {}
      },
      "source": [
        "# Function used in our loss equation\n",
        "def sigmoid(a):\n",
        "  return 1 / (1 + np.exp(-a))\n",
        "\n",
        "def train(X_train, y_train):\n",
        "    \"\"\"\n",
        "    Training the model with gradient descent \n",
        "    \"\"\"\n",
        "    # learning rate chosen from hyperparameter testing\n",
        "    lr = .01\n",
        "    iterations = 50000\n",
        "    \n",
        "    # Initialize weight vector randomly\n",
        "    theta = np.random.random_sample((X_train.shape[1],1))\n",
        "\n",
        "    for i in range(iterations):\n",
        "      # Make guess\n",
        "      a = np.dot(X_train, theta)  \n",
        "\n",
        "      # Change to propabilities\n",
        "      prob = sigmoid(a)\n",
        "\n",
        "      # Find new direction to travel using gradient equation\n",
        "      grad = np.dot(X_train.T, (prob - y_train)) / y_train.size\n",
        "\n",
        "      # Compute next theta vector\n",
        "      theta = theta - lr * grad\n",
        "       \n",
        "    \n",
        "    return theta # the model"
      ],
      "execution_count": 0,
      "outputs": []
    },
    {
      "cell_type": "code",
      "metadata": {
        "id": "yqKPPEytU48A",
        "colab_type": "code",
        "colab": {}
      },
      "source": [
        "def predict(X_valid, model):\n",
        "    \"\"\"\n",
        "    prediction function that uses sigmoid to convert numbers to\n",
        "    probabilities.  Thresholded to give a discrete class for the \n",
        "    prediction\n",
        "    \"\"\"\n",
        "    # Threshold chosen so if value is above %50\n",
        "    # we consider it a 1\n",
        "    thresh = 0.5\n",
        "    pred = sigmoid(np.dot(X_valid,model))\n",
        "    \n",
        "    return (pred >= thresh).astype(int)"
      ],
      "execution_count": 0,
      "outputs": []
    },
    {
      "cell_type": "code",
      "metadata": {
        "id": "rYxhQg_IU48E",
        "colab_type": "code",
        "colab": {}
      },
      "source": [
        "data_feat = pd.read_csv('IRISFeat.csv',header=None,names=['Sepal Length','Sepal Width'])\n",
        "data_label = pd.read_csv('IRISlabel.csv',header=None,names=['Species'])\n",
        "\n",
        "# Convert to numpy matrix [X:y] were X is features matrix and y is label vector\n",
        "data_feat = data_feat.values\n",
        "data_label = data_label.values\n",
        "\n",
        "data_comb = np.concatenate((data_feat,data_label),axis=1)\n",
        "\n",
        "# Shuffle entries\n",
        "np.random.shuffle(data_comb)"
      ],
      "execution_count": 0,
      "outputs": []
    },
    {
      "cell_type": "code",
      "metadata": {
        "id": "6OULiczYU48I",
        "colab_type": "code",
        "colab": {
          "base_uri": "https://localhost:8080/",
          "height": 34
        },
        "outputId": "94b8ecc0-0488-4ab3-8ae3-5c139b467c39"
      },
      "source": [
        "\"\"\"\n",
        "Overall logic.\n",
        "\"\"\"\n",
        "k = 5\n",
        "\n",
        "X_shuffled = dict([(i,feat) for i,feat in enumerate(np.array_split(data_comb[:,:-1],k))])\n",
        "y_shuffled = dict([(i,feat) for i,feat in enumerate(np.array_split(data_comb[:,-1],k))])\n",
        "\n",
        "# Loop through the folds\n",
        "error_rates = []\n",
        "for i in range(0,k):\n",
        "  \n",
        "  # Get training and validation sets\n",
        "  x_train, y_train, x_test, y_test = get_next_train_valid(X_shuffled, y_shuffled, i)\n",
        "  \n",
        "  # Train to get the model for prediction\n",
        "  model = train(x_train, y_train)\n",
        "  \n",
        "  # Predict y values\n",
        "  y_predictions = predict(x_test, model)\n",
        "\n",
        "  # Computer error rates over the set of predictions\n",
        "  errors = 0\n",
        "  \n",
        "  # Calculate errors over the predictions\n",
        "  errors = np.not_equal(y_predictions,y_test).astype(int).sum()\n",
        "   \n",
        "  # Store the average error rate for the fold\n",
        "  err_rate = errors / y_test.shape[0]\n",
        "  error_rates.append(err_rate)\n",
        "\n",
        "avg_error = sum(error_rates) / len(error_rates)\n",
        "print(\"Average error rate across folds: {}\".format(avg_error))"
      ],
      "execution_count": 179,
      "outputs": [
        {
          "output_type": "stream",
          "text": [
            "Average error rate across folds: 0.006666666666666666\n"
          ],
          "name": "stdout"
        }
      ]
    },
    {
      "cell_type": "code",
      "metadata": {
        "id": "Na_wJsvHyNiU",
        "colab_type": "code",
        "colab": {}
      },
      "source": [
        "'''\n",
        "Data to help with visualization \n",
        "'''\n",
        "   lr  | Avg err\n",
        "\n",
        ".00001 = 0.3333\n",
        ".001   = .0066\n",
        ".01    = .0066\n",
        ".1     = .0133\n",
        "1      = .0133\n",
        "10     = .02"
      ],
      "execution_count": 0,
      "outputs": []
    },
    {
      "cell_type": "code",
      "metadata": {
        "id": "PQT_k0Vh5cWQ",
        "colab_type": "code",
        "colab": {
          "base_uri": "https://localhost:8080/",
          "height": 34
        },
        "outputId": "c56476b5-e596-4d1b-d8aa-11e26c0cc800"
      },
      "source": [
        "error_rates"
      ],
      "execution_count": 180,
      "outputs": [
        {
          "output_type": "execute_result",
          "data": {
            "text/plain": [
              "[0.0, 0.0, 0.0, 0.0, 0.03333333333333333]"
            ]
          },
          "metadata": {
            "tags": []
          },
          "execution_count": 180
        }
      ]
    },
    {
      "cell_type": "code",
      "metadata": {
        "id": "wuOjEZH2vVag",
        "colab_type": "code",
        "colab": {
          "base_uri": "https://localhost:8080/",
          "height": 517
        },
        "outputId": "00593306-3bc3-4723-d01a-c2ffb1054894"
      },
      "source": [
        "x = [.00001,.001,.01,.1,1,10]\n",
        "y = [33.33, .66, .66, 1.33, 1.33,2]\n",
        "\n",
        "plt.figure(figsize=(10,8))\n",
        "plt.semilogx(x,y)\n",
        "plt.title(\"Avg Error rate for varying learning rates\")\n",
        "plt.xlabel(\"Learning Rate\")\n",
        "plt.ylabel(\"Error Rate\")\n",
        "plt.show()"
      ],
      "execution_count": 181,
      "outputs": [
        {
          "output_type": "display_data",
          "data": {
            "image/png": "[encoded data removed]",
            "text/plain": [
              "<Figure size 720x576 with 1 Axes>"
            ]
          },
          "metadata": {
            "tags": []
          }
        }
      ]
    },
    {
      "cell_type": "code",
      "metadata": {
        "id": "GDsFvAyS4VwN",
        "colab_type": "code",
        "colab": {}
      },
      "source": [
        ""
      ],
      "execution_count": 0,
      "outputs": []
    }
  ]
}