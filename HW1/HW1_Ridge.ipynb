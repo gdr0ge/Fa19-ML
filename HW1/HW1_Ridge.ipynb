{
  "nbformat": 4,
  "nbformat_minor": 0,
  "metadata": {
    "kernelspec": {
      "display_name": "Python 3",
      "language": "python",
      "name": "python3"
    },
    "language_info": {
      "codemirror_mode": {
        "name": "ipython",
        "version": 3
      },
      "file_extension": ".py",
      "mimetype": "text/x-python",
      "name": "python",
      "nbconvert_exporter": "python",
      "pygments_lexer": "ipython3",
      "version": "3.6.9"
    },
    "colab": {
      "name": "HW1-Ridge.ipynb",
      "provenance": [],
      "collapsed_sections": []
    }
  },
  "cells": [
    {
      "cell_type": "code",
      "metadata": {
        "id": "OcxlayUZjthx",
        "colab_type": "code",
        "outputId": "fc2ac238-2ac5-44e0-f29e-0b60bc569114",
        "colab": {
          "base_uri": "https://localhost:8080/",
          "height": 54
        }
      },
      "source": [
        "\"\"\"\n",
        "DESCRIPTION OF IMPLEMENTATION:\n",
        "\n",
        "Since ridge regression was designed to handle singular feature matrices we don't have to worry about singular matrices and we can used the closed form solution \n",
        "for the minimal weight vector.  I build weight vectors over the range of lambda's 0-100 and the combination of these weight vectors form the model.  Once we \n",
        "calculate the model we calculate the prediction on the next set  over the range of lambda's and finally calculate the RMSE the same way so we get RMSE values over \n",
        "the entire range of lambda values.  This is done for 5-folds and the averages are compared as well as the individual RMSE values over the range of lambda's.\n",
        "\n",
        "I include the equations used in the LateX doc towards the end\n",
        "\"\"\""
      ],
      "execution_count": 0,
      "outputs": [
        {
          "output_type": "execute_result",
          "data": {
            "text/plain": [
              "'\\nThis is just a rough skeleton to assist you in understanding the process flow. \\nModify it to meet the requirements of the questions. \\n\\nPut the description paragraph here\\nDESCRIPTION OF IMPLEMENTATION:\\n\\nImplementation of Ridge Regression without using gradient descent \\nas a optimality condition\\n\\n\\n'"
            ]
          },
          "metadata": {
            "tags": []
          },
          "execution_count": 1
        }
      ]
    },
    {
      "cell_type": "code",
      "metadata": {
        "id": "whoU5GIrku2w",
        "colab_type": "code",
        "colab": {}
      },
      "source": [
        "# Used to upload the IRISfeat.csv and IRISlabel.csv files\n",
        "from google.colab import files\n",
        "uploaded = files.upload()"
      ],
      "execution_count": 0,
      "outputs": []
    },
    {
      "cell_type": "code",
      "metadata": {
        "id": "GYnrmu39jth3",
        "colab_type": "code",
        "colab": {}
      },
      "source": [
        "import numpy as np\n",
        "import pandas as pd\n",
        "import matplotlib.pyplot as plt"
      ],
      "execution_count": 0,
      "outputs": []
    },
    {
      "cell_type": "code",
      "metadata": {
        "id": "3SxUvAtVjth6",
        "colab_type": "code",
        "colab": {}
      },
      "source": [
        "# Grab data\n",
        "data = pd.read_csv('Housing.csv')"
      ],
      "execution_count": 0,
      "outputs": []
    },
    {
      "cell_type": "code",
      "metadata": {
        "id": "JofLHIBmjth_",
        "colab_type": "code",
        "colab": {}
      },
      "source": [
        "def get_next_train_valid(X_shuffled, y_shuffled, itr):\n",
        "    \"\"\"\n",
        "    Return one validation set and concatenate the rest to \n",
        "    use as a training set\n",
        "    \"\"\"\n",
        "    val_x, val_y = X_shuffled[itr], y_shuffled[itr][:,None]\n",
        "    \n",
        "    training_x = np.empty((0,X_shuffled[0].shape[1]))\n",
        "    training_y = np.empty((0,1))\n",
        "    \n",
        "    for k,v in X_shuffled.items():\n",
        "      if k != itr:\n",
        "        training_x = np.concatenate((training_x,v),axis=0)\n",
        "    \n",
        "    for k,v in y_shuffled.items():\n",
        "      if k != itr:\n",
        "        training_y = np.concatenate((training_y,v.reshape(v.shape[0],1)),axis=0)\n",
        "        \n",
        "        \n",
        "    return training_x, training_y, val_x, val_y"
      ],
      "execution_count": 0,
      "outputs": []
    },
    {
      "cell_type": "code",
      "metadata": {
        "id": "hBVEr1FZjtiF",
        "colab_type": "code",
        "colab": {}
      },
      "source": [
        "def train(X_train, y_train,lam):\n",
        "    \"\"\"\n",
        "    Not using gradient descent so we take gradient of loss function and \n",
        "    find weights that set it equal to 0. w = (lamdaI + (X^T)X)^-1 X^Ty which\n",
        "    is the closed form solution\n",
        "    \"\"\"\n",
        "    weights = []\n",
        " \n",
        "    xTx = np.dot( np.transpose(X_train), X_train )\n",
        "    lam_I = np.identity(xTx.shape[0]) * lam\n",
        "\n",
        "    inv_term = np.linalg.inv(lam_I + xTx)\n",
        "    out_term = np.dot( np.transpose(X_train), y_train )\n",
        "\n",
        "    w = np.dot(inv_term, out_term)\n",
        "    weights.append(w)\n",
        "\n",
        "    intercept = w[0]\n",
        "    \n",
        "    return weights, intercept"
      ],
      "execution_count": 0,
      "outputs": []
    },
    {
      "cell_type": "code",
      "metadata": {
        "id": "ft9lAKz4jtiL",
        "colab_type": "code",
        "colab": {}
      },
      "source": [
        "def predict(X_valid, model, intercept):\n",
        "    \"\"\"\n",
        "    Prediction function that multiplies validation\n",
        "    set by the set of weight vectors\n",
        "    \"\"\"\n",
        "    \n",
        "    y_predictions = []\n",
        "    for w in model:\n",
        "      y_pred = np.dot(X_valid, w)\n",
        "      y_predictions.append(y_pred)\n",
        "    \n",
        "    return y_predictions"
      ],
      "execution_count": 0,
      "outputs": []
    },
    {
      "cell_type": "code",
      "metadata": {
        "id": "UxlsYDXq8LD6",
        "colab_type": "code",
        "colab": {}
      },
      "source": [
        "# Convert to numpy matrix [X:y] were X is features matrix and y is label vector\n",
        "data_np = data.values\n",
        "\n",
        "# Shuffle entries\n",
        "np.random.shuffle(data_np)"
      ],
      "execution_count": 0,
      "outputs": []
    },
    {
      "cell_type": "code",
      "metadata": {
        "id": "HpTdZGh-jtiS",
        "colab_type": "code",
        "colab": {}
      },
      "source": [
        "\"\"\"\n",
        "Overall logic.\n",
        "\"\"\"\n",
        "\n",
        "# Partition data into k folds\n",
        "k = 5\n",
        "\n",
        "X_shuffled = dict([(i,feat) for i,feat in enumerate(np.array_split(data_np[:,:-1],k))])\n",
        "y_shuffled = dict([(i,feat) for i,feat in enumerate(np.array_split(data_np[:,-1],k))])\n",
        "\n",
        "# Loop through the folds\n",
        "RMSEs_Avgs = []\n",
        "RMSEs_lambdas = []\n",
        "for i in range(0,k):\n",
        "  \n",
        "  # Get training and validation sets\n",
        "  x_train, y_train, x_test, y_test = get_next_train_valid(X_shuffled, y_shuffled, i)\n",
        "  \n",
        "  # Train to get the model for prediction\n",
        "  lam = 10\n",
        "  model, intercept = train(x_train, y_train, lam)\n",
        "  \n",
        "  # Predict y values\n",
        "  y_predictions = predict(x_test, model,intercept)\n",
        "  \n",
        "  # Computer RMSE over the lambdas\n",
        "  RMSEs = []\n",
        "  for p in y_predictions:\n",
        "    # Calculate rmse over the predictions\n",
        "    rmse = np.sqrt(np.sum(np.square(y_test - p)) / len(y_test))\n",
        "    RMSEs.append(rmse)\n",
        "   \n",
        "  # Store the average rmse for this k-fold\n",
        "  avg = sum(RMSEs) / len(RMSEs)\n",
        "  RMSEs_Avgs.append(avg)\n",
        "  \n",
        "  # Store the rmse values across all lambdas for this k-fold\n",
        "  RMSEs_lambdas.append(RMSEs)\n"
      ],
      "execution_count": 0,
      "outputs": []
    },
    {
      "cell_type": "code",
      "metadata": {
        "id": "KuuMHH-k9LAl",
        "colab_type": "code",
        "outputId": "44f83c9d-42dd-4ea7-ab20-ea9e753c0c00",
        "colab": {
          "base_uri": "https://localhost:8080/",
          "height": 34
        }
      },
      "source": [
        "'''\n",
        "The code below is used to plot and calculate some statistics for the previous algorithm\n",
        "'''"
      ],
      "execution_count": 62,
      "outputs": [
        {
          "output_type": "execute_result",
          "data": {
            "text/plain": [
              "'\\nThe code below is used to plot and calculate some statistics for the previous algorithm\\n'"
            ]
          },
          "metadata": {
            "tags": []
          },
          "execution_count": 62
        }
      ]
    },
    {
      "cell_type": "code",
      "metadata": {
        "id": "r72okR5jx5gJ",
        "colab_type": "code",
        "outputId": "b60f34b9-7b3a-4ced-e0e8-2ac43712f73f",
        "colab": {
          "base_uri": "https://localhost:8080/",
          "height": 102
        }
      },
      "source": [
        "RMSEs_Avgs"
      ],
      "execution_count": 63,
      "outputs": [
        {
          "output_type": "execute_result",
          "data": {
            "text/plain": [
              "[5.8347519596086155,\n",
              " 4.853322966452454,\n",
              " 4.709014443334091,\n",
              " 5.331529879001799,\n",
              " 4.423681428645843]"
            ]
          },
          "metadata": {
            "tags": []
          },
          "execution_count": 63
        }
      ]
    },
    {
      "cell_type": "code",
      "metadata": {
        "id": "HkyC1WeVVXQG",
        "colab_type": "code",
        "outputId": "17cb41ed-7762-4c18-9dd1-53685b59312d",
        "colab": {
          "base_uri": "https://localhost:8080/",
          "height": 34
        }
      },
      "source": [
        "sum(RMSEs_Avgs) / len(RMSEs_Avgs)"
      ],
      "execution_count": 64,
      "outputs": [
        {
          "output_type": "execute_result",
          "data": {
            "text/plain": [
              "5.0304601354085605"
            ]
          },
          "metadata": {
            "tags": []
          },
          "execution_count": 64
        }
      ]
    },
    {
      "cell_type": "code",
      "metadata": {
        "id": "LbgoARzE8Fzm",
        "colab_type": "code",
        "colab": {}
      },
      "source": [
        ""
      ],
      "execution_count": 0,
      "outputs": []
    }
  ]
}